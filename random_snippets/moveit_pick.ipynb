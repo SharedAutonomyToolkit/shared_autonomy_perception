{
 "metadata": {
  "name": "moveit_pick"
 }, 
 "nbformat": 2, 
 "worksheets": [
  {
   "cells": [
    {
     "cell_type": "markdown", 
     "source": [
      "### Setting up moveit_commander"
     ]
    }, 
    {
     "cell_type": "code", 
     "collapsed": true, 
     "input": [
      "import rospy", 
      "import moveit_commander"
     ], 
     "language": "python", 
     "outputs": [], 
     "prompt_number": 1
    }, 
    {
     "cell_type": "code", 
     "collapsed": true, 
     "input": [
      "rospy.init_node('testing_moveit')"
     ], 
     "language": "python", 
     "outputs": [], 
     "prompt_number": 2
    }, 
    {
     "cell_type": "code", 
     "collapsed": true, 
     "input": [
      "group = moveit_commander.MoveGroupCommander(\"left_arm\")"
     ], 
     "language": "python", 
     "outputs": [], 
     "prompt_number": 3
    }, 
    {
     "cell_type": "markdown", 
     "source": [
      "### Setting home poses"
     ]
    }, 
    {
     "cell_type": "code", 
     "collapsed": true, 
     "input": [
      "p1 = group.get_current_pose()"
     ], 
     "language": "python", 
     "outputs": [], 
     "prompt_number": 4
    }, 
    {
     "cell_type": "markdown", 
     "source": [
      "pause arm and move it here...."
     ]
    }, 
    {
     "cell_type": "code", 
     "collapsed": true, 
     "input": [
      "p2 = group.get_current_pose()"
     ], 
     "language": "python", 
     "outputs": [], 
     "prompt_number": 5
    }, 
    {
     "cell_type": "code", 
     "collapsed": false, 
     "input": [
      "group.set_pose_target(p1)", 
      "group.go()"
     ], 
     "language": "python", 
     "outputs": [
      {
       "output_type": "pyout", 
       "prompt_number": 6, 
       "text": [
        "True"
       ]
      }
     ], 
     "prompt_number": 6
    }, 
    {
     "cell_type": "markdown", 
     "source": [
      "### Adding object to scene", 
      "", 
      "Note that, by default, this clears out all voxels w/in 10cm of the object. How to adjust this parameter?"
     ]
    }, 
    {
     "cell_type": "code", 
     "collapsed": true, 
     "input": [
      "from geometry_msgs.msg import Pose", 
      "from moveit_msgs.msg import PlanningScene, CollisionObject, AttachedCollisionObject", 
      "from shape_msgs.msg import SolidPrimitive"
     ], 
     "language": "python", 
     "outputs": [], 
     "prompt_number": 7
    }, 
    {
     "cell_type": "code", 
     "collapsed": true, 
     "input": [
      "collision_pub = rospy.Publisher('collision_object', CollisionObject)", 
      "attach_pub = rospy.Publisher('attached_collision_object', AttachedCollisionObject)"
     ], 
     "language": "python", 
     "outputs": [], 
     "prompt_number": 8
    }, 
    {
     "cell_type": "code", 
     "collapsed": true, 
     "input": [
      "def insert_object(name):", 
      "    # Create the shape of the object", 
      "    pose = Pose()", 
      "    pose.position.x = 0.47", 
      "    pose.position.y = 0.1", 
      "    pose.position.z = 1.3", 
      "    pose.orientation.w = 1.0", 
      "", 
      "    primitive = SolidPrimitive()", 
      "    primitive.type = primitive.BOX", 
      "    primitive.dimensions = [0.1, 0.1, 0.2]", 
      "", 
      "    add_object = CollisionObject()", 
      "    add_object.id = \"box1\"", 
      "    add_object.header.frame_id = \"odom_combined\"", 
      "    add_object.operation = add_object.ADD", 
      "", 
      "    add_object.primitives.append(primitive)", 
      "    add_object.primitive_poses.append(pose)", 
      "", 
      "    collision_pub.publish(add_object)"
     ], 
     "language": "python", 
     "outputs": [], 
     "prompt_number": 9
    }, 
    {
     "cell_type": "code", 
     "collapsed": true, 
     "input": [
      "insert_object(\"box1\")"
     ], 
     "language": "python", 
     "outputs": [], 
     "prompt_number": 10
    }, 
    {
     "cell_type": "code", 
     "collapsed": true, 
     "input": [
      "def insert_table():", 
      "    pose = Pose()", 
      "    pose.position.x = 0.55", 
      "    pose.position.y = 0.0", 
      "    pose.position.z = 0.75", 
      "    pose.orientation.w = 1.0", 
      "    primitive = SolidPrimitive()", 
      "    primitive.type = primitive.BOX", 
      "    primitive.dimensions = [0.7, 1.0, 0.05]", 
      "", 
      "    co = CollisionObject()", 
      "    co.id = \"table\"", 
      "    co.header.frame_id = \"odom_combined\"", 
      "    co.operation = co.ADD", 
      "    co.primitives.append(primitive)", 
      "    co.primitive_poses.append(pose)", 
      "    collision_pub.publish(co)"
     ], 
     "language": "python", 
     "outputs": [], 
     "prompt_number": 11
    }, 
    {
     "cell_type": "markdown", 
     "source": [
      "### Removing object from Scene", 
      "", 
      "The intersecting voxels quickly reappear in the show back up in the scene geometry. Need to add teh header to avoid warnings. "
     ]
    }, 
    {
     "cell_type": "code", 
     "collapsed": true, 
     "input": [
      "def remove_object(name):", 
      "    remove_object = CollisionObject()", 
      "    remove_object.header.frame_id = \"odom_combined\"", 
      "    remove_object.id = name", 
      "    remove_object.operation = remove_object.REMOVE", 
      "", 
      "    collision_pub.publish(remove_object)"
     ], 
     "language": "python", 
     "outputs": [], 
     "prompt_number": 12
    }, 
    {
     "cell_type": "code", 
     "collapsed": true, 
     "input": [
      "def detach_object(name):", 
      "", 
      "    detach_object = AttachedCollisionObject()", 
      "    detach_object.object.id = name", 
      "    detach_object.link_name = \"l_wrist_roll_link\"", 
      "    detach_object.object.operation = detach_object.object.REMOVE", 
      "    attach_pub.publish(detach_object)"
     ], 
     "language": "python", 
     "outputs": [], 
     "prompt_number": 13
    }, 
    {
     "cell_type": "code", 
     "collapsed": true, 
     "input": [
      "def attach_object(name):", 
      "", 
      "    attach_obj = AttachedCollisionObject()", 
      "    attach_obj.object.id = name", 
      "    attach_obj.link_name = \"l_wrist_roll_link\"", 
      "    attach_obj.object.operation = attach_obj.object.ADD", 
      "    attach_pub.publish(attach_obj)"
     ], 
     "language": "python", 
     "outputs": [], 
     "prompt_number": 14
    }, 
    {
     "cell_type": "code", 
     "collapsed": true, 
     "input": [
      "attach_object(\"box1\")"
     ], 
     "language": "python", 
     "outputs": [], 
     "prompt_number": 15
    }, 
    {
     "cell_type": "code", 
     "collapsed": true, 
     "input": [
      "detach_object(\"box1\")"
     ], 
     "language": "python", 
     "outputs": [], 
     "prompt_number": 16
    }, 
    {
     "cell_type": "code", 
     "collapsed": true, 
     "input": [
      "remove_object(\"box1\")"
     ], 
     "language": "python", 
     "outputs": [], 
     "prompt_number": 17
    }, 
    {
     "cell_type": "markdown", 
     "source": [
      "### Requesting object be picked up", 
      " ", 
      "  * Note that we must specify the grasp as well as the pose of the eef link"
     ]
    }, 
    {
     "cell_type": "code", 
     "collapsed": true, 
     "input": [
      "from moveit_msgs.msg import Grasp", 
      "from sensor_msgs.msg import JointState", 
      "from trajectory_msgs.msg import JointTrajectoryPoint", 
      "from geometry_msgs.msg import PoseStamped"
     ], 
     "language": "python", 
     "outputs": [], 
     "prompt_number": 35
    }, 
    {
     "cell_type": "code", 
     "collapsed": true, 
     "input": [
      "grasp = Grasp()", 
      "grasp.id = \"box1_grasp1\"", 
      "", 
      "# HAND configurations pre- and mid- grasp", 
      "# hand_joints = ['l_gripper_joint'] ", 
      "# NOTE that this doesn't match the pick_place_tutorial.cpp. ", 
      "hand_joints = ['l_gripper_motor_screw_joint']", 
      "", 
      "closed_point = JointTrajectoryPoint()", 
      "closed_point.positions = [0.0]", 
      "open_point = JointTrajectoryPoint()", 
      "open_point.positions = [0.5]", 
      "", 
      "grasp.pre_grasp_posture.joint_names = hand_joints", 
      "grasp.pre_grasp_posture.points.append(open_point)", 
      "", 
      "grasp.grasp_posture.joint_names = hand_joints", 
      "grasp.grasp_posture.points.append(closed_point)", 
      "", 
      "# end-effector pose for grasp", 
      "# Obtained by moving arm manually, then calling group.get_current_pose()", 
      "grasp.grasp_pose.header.frame_id = \"/odom_combined\"", 
      "grasp.grasp_pose.pose.position.x = 0.5 ", 
      "grasp.grasp_pose.pose.position.y = 0.3 ", 
      "grasp.grasp_pose.pose.position.z = 1.3", 
      "grasp.grasp_pose.pose.orientation.x = 0.0556875828781", 
      "grasp.grasp_pose.pose.orientation.y = 0.0116561682401", 
      "grasp.grasp_pose.pose.orientation.z = -0.721839503476", 
      "grasp.grasp_pose.pose.orientation.w = 0.689717882961", 
      "", 
      "# I don't know if this matters ...", 
      "grasp.grasp_quality = 1.0", 
      "", 
      "# approach/retreat directions", 
      "grasp.pre_grasp_approach.direction.header.frame_id = \"/odom_combined\"", 
      "grasp.pre_grasp_approach.direction.vector.x = 0.0", 
      "grasp.pre_grasp_approach.direction.vector.y = -1.0", 
      "grasp.pre_grasp_approach.direction.vector.z = 0.0", 
      "grasp.pre_grasp_approach.desired_distance = 0.2", 
      "grasp.pre_grasp_approach.min_distance = 0.1", 
      "", 
      "grasp.post_grasp_retreat.direction.header.frame_id = \"/odom_combined\"", 
      "grasp.post_grasp_retreat.direction.vector.x = 0.0", 
      "grasp.post_grasp_retreat.direction.vector.y = 1.0", 
      "grasp.post_grasp_retreat.direction.vector.z = 0.0", 
      "grasp.post_grasp_retreat.desired_distance = 0.2", 
      "grasp.post_grasp_retreat.min_distance = 0.1"
     ], 
     "language": "python", 
     "outputs": [], 
     "prompt_number": 36
    }, 
    {
     "cell_type": "markdown", 
     "source": [
      "Now, watch rviz to see the robot pick and place the hallucinated object. It turns magenta when attached to the robot. "
     ]
    }, 
    {
     "cell_type": "code", 
     "collapsed": true, 
     "input": [
      "insert_object(\"box1\")"
     ], 
     "language": "python", 
     "outputs": [], 
     "prompt_number": 37
    }, 
    {
     "cell_type": "code", 
     "collapsed": false, 
     "input": [
      "group.pick(\"box1\", grasp=grasp)"
     ], 
     "language": "python", 
     "outputs": [
      {
       "output_type": "pyout", 
       "prompt_number": 38, 
       "text": [
        "True"
       ]
      }
     ], 
     "prompt_number": 38
    }, 
    {
     "cell_type": "code", 
     "collapsed": false, 
     "input": [
      "group.pick(\"box1\", grasp=grasp)"
     ], 
     "language": "python", 
     "outputs": [
      {
       "output_type": "pyout", 
       "prompt_number": 107, 
       "text": [
        "False"
       ]
      }
     ], 
     "prompt_number": 107
    }, 
    {
     "cell_type": "code", 
     "collapsed": false, 
     "input": [
      "# This also takes care of detaching the object from the robot", 
      "obj_pose = Pose()", 
      "obj_pose.position.x = 0.5", 
      "obj_pose.position.y = 0.07", 
      "obj_pose.position.z = 1.0", 
      "obj_pose.orientation.w = 1.0", 
      "", 
      "group.place(\"box1\", obj_pose)"
     ], 
     "language": "python", 
     "outputs": [
      {
       "output_type": "pyout", 
       "prompt_number": 39, 
       "text": [
        "True"
       ]
      }
     ], 
     "prompt_number": 39
    }, 
    {
     "cell_type": "code", 
     "collapsed": true, 
     "input": [
      "remove_object(\"box1\")"
     ], 
     "language": "python", 
     "outputs": [], 
     "prompt_number": 40
    }, 
    {
     "cell_type": "markdown", 
     "source": [
      "###Now, trying to use the PickupGoal actionlib interface"
     ]
    }, 
    {
     "cell_type": "code", 
     "collapsed": true, 
     "input": [
      "import actionlib"
     ], 
     "language": "python", 
     "outputs": [], 
     "prompt_number": 41
    }, 
    {
     "cell_type": "code", 
     "collapsed": true, 
     "input": [
      "from moveit_msgs.msg import PickupAction, PickupGoal"
     ], 
     "language": "python", 
     "outputs": [], 
     "prompt_number": 42
    }, 
    {
     "cell_type": "code", 
     "collapsed": false, 
     "input": [
      "pickup_client = actionlib.SimpleActionClient('pickup', PickupAction)", 
      "pickup_client.wait_for_server()"
     ], 
     "language": "python", 
     "outputs": [
      {
       "output_type": "pyout", 
       "prompt_number": 43, 
       "text": [
        "True"
       ]
      }
     ], 
     "prompt_number": 43
    }, 
    {
     "cell_type": "code", 
     "collapsed": true, 
     "input": [
      "insert_object(\"box1\")"
     ], 
     "language": "python", 
     "outputs": [], 
     "prompt_number": 44
    }, 
    {
     "cell_type": "code", 
     "collapsed": false, 
     "input": [
      "pickup_goal = PickupGoal()", 
      "pickup_goal.target_name = \"box1\"", 
      "pickup_goal.group_name = \"left_arm\"", 
      "pickup_goal.possible_grasps.append(grasp)", 
      "pickup_goal.support_surface_name = \"table\"", 
      "pickup_goal.allow_gripper_support_collision = False", 
      "pickup_goal.allowed_planning_time = 30.0", 
      "# Fill in the goal here", 
      "pickup_client.send_goal(pickup_goal)", 
      "pickup_client.wait_for_result()", 
      "pickup_result = pickup_client.get_result()", 
      "print pickup_result.error_code"
     ], 
     "language": "python", 
     "outputs": [
      {
       "output_type": "stream", 
       "stream": "stdout", 
       "text": [
        "val: -3"
       ]
      }
     ], 
     "prompt_number": 45
    }, 
    {
     "cell_type": "markdown", 
     "source": [
      "### Removing the object from the robot"
     ]
    }, 
    {
     "cell_type": "code", 
     "collapsed": true, 
     "input": [
      "from moveit_msgs.msg import AttachedCollisionObject"
     ], 
     "language": "python", 
     "outputs": [], 
     "prompt_number": 32
    }, 
    {
     "cell_type": "code", 
     "collapsed": true, 
     "input": [
      "def detach_object(name):", 
      "    attached_object_publisher = rospy.Publisher(\"attached_collision_object\", AttachedCollisionObject)", 
      "    detach_object = AttachedCollisionObject()", 
      "    detach_object.object.id = name", 
      "    detach_object.object.operation = detach_object.object.REMOVE", 
      "    attached_object_publisher.publish(detach_object)"
     ], 
     "language": "python", 
     "outputs": [], 
     "prompt_number": 33
    }, 
    {
     "cell_type": "code", 
     "collapsed": true, 
     "input": [
      "detach_object(\"box1\")", 
      "remove_object(\"box1\")"
     ], 
     "language": "python", 
     "outputs": [], 
     "prompt_number": 46
    }, 
    {
     "cell_type": "code", 
     "collapsed": true, 
     "input": [], 
     "language": "python", 
     "outputs": []
    }
   ]
  }
 ]
}